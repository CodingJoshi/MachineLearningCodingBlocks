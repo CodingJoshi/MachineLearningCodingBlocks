{
 "cells": [
  {
   "cell_type": "markdown",
   "metadata": {},
   "source": [
    "## Step 1 : \n",
    "- Load the Data \n",
    "- Visulize the Data\n",
    "- Normalise the Data\n"
   ]
  },
  {
   "cell_type": "code",
   "execution_count": 1,
   "metadata": {},
   "outputs": [],
   "source": [
    "import numpy as np\n",
    "import matplotlib.pyplot as plt\n",
    "import pandas as pd"
   ]
  },
  {
   "cell_type": "code",
   "execution_count": 2,
   "metadata": {},
   "outputs": [
    {
     "name": "stdout",
     "output_type": "stream",
     "text": [
      "(3750, 1)\n"
     ]
    },
    {
     "data": {
      "image/png": "[encoded data removed]",
      "text/plain": [
       "<Figure size 432x288 with 1 Axes>"
      ]
     },
     "metadata": {
      "needs_background": "light"
     },
     "output_type": "display_data"
    }
   ],
   "source": [
    "x=pd.read_csv(\"./Training Data/Linear_X_Train.csv\")\n",
    "y=pd.read_csv(\"./Training Data/Linear_Y_Train.csv\")\n",
    "\n",
    "plt.scatter(x,y);\n",
    "print(x.shape)\n",
    "\n",
    "# as it is already normalise you can skip this step\n",
    "#normalisation\n",
    "    #convert to numpy array\n",
    "X=x.values;\n",
    "Y=y.values;\n",
    "X=(X-X.mean())/X.std()\n",
    "plt.plot(X,Y,color=\"orange\");\n",
    "plt.show()"
   ]
  },
  {
   "cell_type": "code",
   "execution_count": 3,
   "metadata": {},
   "outputs": [],
   "source": [
    "def hypothsis(theta,x):\n",
    "    yhat=theta[0]+theta[1]*x;\n",
    "    return yhat\n"
   ]
  },
  {
   "cell_type": "code",
   "execution_count": 4,
   "metadata": {},
   "outputs": [],
   "source": [
    "def Gradient(X,Y,theta):\n",
    "    \n",
    "    m=X.shape[0]\n",
    "    grad=np.zeros(2,)\n",
    "    for i in range(m):\n",
    "        yat=hypothsis(theta,X[i])\n",
    "        grad[0]+=(yat-Y[i])\n",
    "        grad[1]+=(yat-Y[i])*X[i]\n",
    "    return grad/m;\n"
   ]
  },
  {
   "cell_type": "code",
   "execution_count": 5,
   "metadata": {},
   "outputs": [],
   "source": [
    "def Gradient_Desecent(X,Y):\n",
    "    theta=np.zeros(2,);\n",
    "    lr=0.1;\n",
    "    grad=Gradient(X,Y,theta);\n",
    "    stepsize=lr*grad;\n",
    "    theta=theta-stepsize;\n",
    "    while abs(stepsize[0])>0.001 and abs(stepsize[1])>0.001:\n",
    "        grad=Gradient(X,Y,theta);\n",
    "        stepsize=lr*grad;\n",
    "        theta=theta-stepsize;\n",
    "    return theta;   "
   ]
  },
  {
   "cell_type": "code",
   "execution_count": 6,
   "metadata": {},
   "outputs": [],
   "source": [
    "best_theta=Gradient_Desecent(X,Y)"
   ]
  },
  {
   "cell_type": "code",
   "execution_count": 7,
   "metadata": {},
   "outputs": [
    {
     "name": "stdout",
     "output_type": "stream",
     "text": [
      "[[-19.33953321]\n",
      " [-43.1737164 ]\n",
      " [ 85.45170433]\n",
      " ...\n",
      " [-20.60136199]\n",
      " [137.04500181]\n",
      " [-35.45035269]]\n"
     ]
    },
    {
     "data": {
      "image/png": "[encoded data removed]",
      "text/plain": [
       "<Figure size 432x288 with 1 Axes>"
      ]
     },
     "metadata": {
      "needs_background": "light"
     },
     "output_type": "display_data"
    }
   ],
   "source": [
    "y=hypothsis(best_theta,X)\n",
    "print(y)\n",
    "plt.scatter(X,Y)\n",
    "plt.plot(X,y,color='orange',label='Prediction')\n",
    "plt.legend()\n",
    "plt.show()"
   ]
  },
  {
   "cell_type": "code",
   "execution_count": 14,
   "metadata": {},
   "outputs": [],
   "source": [
    "# Load the Test data\n",
    "X_test=pd.read_csv(\"./Test Cases/Linear_X_Test.csv\").values;\n",
    "Y_predict=hypothsis(best_theta,X_test);"
   ]
  },
  {
   "cell_type": "code",
   "execution_count": 15,
   "metadata": {},
   "outputs": [],
   "source": [
    "df=pd.DataFrame(data=Y_predict,columns=[\"y\"])\n",
    "df=pd.DataFrame?"
   ]
  },
  {
   "cell_type": "code",
   "execution_count": 16,
   "metadata": {},
   "outputs": [],
   "source": [
    "df.to_csv('y_prediction.csv',index=False)"
   ]
  },
  {
   "cell_type": "code",
   "execution_count": 17,
   "metadata": {},
   "outputs": [],
   "source": [
    "def r2_score(Y,Y_):\n",
    "    # Instead of Loop, np.sum is recommended as it is fast\n",
    "    num = np.sum((Y-Y_)**2)\n",
    "    denom = np.sum((Y- Y.mean())**2)\n",
    "    score = (1- num/denom)\n",
    "    return score*100"
   ]
  },
  {
   "cell_type": "code",
   "execution_count": 18,
   "metadata": {},
   "outputs": [
    {
     "data": {
      "text/plain": [
       "97.08220345187759"
      ]
     },
     "execution_count": 18,
     "metadata": {},
     "output_type": "execute_result"
    }
   ],
   "source": [
    "r2_score(Y,y)"
   ]
  },
  {
   "cell_type": "code",
   "execution_count": null,
   "metadata": {},
   "outputs": [],
   "source": []
  },
  {
   "cell_type": "code",
   "execution_count": null,
   "metadata": {},
   "outputs": [],
   "source": []
  },
  {
   "cell_type": "code",
   "execution_count": null,
   "metadata": {},
   "outputs": [],
   "source": []
  }
 ],
 "metadata": {
  "kernelspec": {
   "display_name": "Python 3",
   "language": "python",
   "name": "python3"
  },
  "language_info": {
   "codemirror_mode": {
    "name": "ipython",
    "version": 3
   },
   "file_extension": ".py",
   "mimetype": "text/x-python",
   "name": "python",
   "nbconvert_exporter": "python",
   "pygments_lexer": "ipython3",
   "version": "3.7.6"
  }
 },
 "nbformat": 4,
 "nbformat_minor": 4
}
