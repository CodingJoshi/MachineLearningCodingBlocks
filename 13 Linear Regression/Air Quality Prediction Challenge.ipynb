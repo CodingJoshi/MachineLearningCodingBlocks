{
 "cells": [
  {
   "cell_type": "markdown",
   "metadata": {},
   "source": [
    "## Vectorisation Approach"
   ]
  },
  {
   "cell_type": "code",
   "execution_count": 3,
   "metadata": {},
   "outputs": [],
   "source": [
    "from sklearn.datasets import load_boston\n",
    "import numpy as np\n",
    "import pandas as pd\n",
    "import matplotlib.pyplot as plt"
   ]
  },
  {
   "cell_type": "code",
   "execution_count": 4,
   "metadata": {},
   "outputs": [],
   "source": [
    "# boston=load_boston();\n",
    "# X=boston.data;\n",
    "# y=boston.target;\n",
    "# df=pd.DataFrame(X);\n",
    "# df.head()\n",
    "df=pd.read_csv(\"./Train/Train.csv\");\n",
    "df.shape;\n",
    "df.head()\n",
    "\n",
    "data=df.values;\n",
    "X=data[:,0:5];\n",
    "y=data[:,5];\n",
    "# print(X[:5,:])\n",
    "# print(y[:5])"
   ]
  },
  {
   "cell_type": "code",
   "execution_count": 5,
   "metadata": {},
   "outputs": [
    {
     "name": "stdout",
     "output_type": "stream",
     "text": [
      "(1600, 6)\n"
     ]
    },
    {
     "data": {
      "text/html": [
       "<div>\n",
       "<style scoped>\n",
       "    .dataframe tbody tr th:only-of-type {\n",
       "        vertical-align: middle;\n",
       "    }\n",
       "\n",
       "    .dataframe tbody tr th {\n",
       "        vertical-align: top;\n",
       "    }\n",
       "\n",
       "    .dataframe thead th {\n",
       "        text-align: right;\n",
       "    }\n",
       "</style>\n",
       "<table border=\"1\" class=\"dataframe\">\n",
       "  <thead>\n",
       "    <tr style=\"text-align: right;\">\n",
       "      <th></th>\n",
       "      <th>0</th>\n",
       "      <th>1</th>\n",
       "      <th>2</th>\n",
       "      <th>3</th>\n",
       "      <th>4</th>\n",
       "      <th>5</th>\n",
       "    </tr>\n",
       "  </thead>\n",
       "  <tbody>\n",
       "    <tr>\n",
       "      <th>0</th>\n",
       "      <td>1.0</td>\n",
       "      <td>0.290165</td>\n",
       "      <td>-0.898712</td>\n",
       "      <td>-0.372381</td>\n",
       "      <td>0.441771</td>\n",
       "      <td>0.525024</td>\n",
       "    </tr>\n",
       "    <tr>\n",
       "      <th>1</th>\n",
       "      <td>1.0</td>\n",
       "      <td>-0.842705</td>\n",
       "      <td>-0.158229</td>\n",
       "      <td>-0.723656</td>\n",
       "      <td>-0.994642</td>\n",
       "      <td>0.598960</td>\n",
       "    </tr>\n",
       "    <tr>\n",
       "      <th>2</th>\n",
       "      <td>1.0</td>\n",
       "      <td>0.233004</td>\n",
       "      <td>0.157070</td>\n",
       "      <td>-0.102094</td>\n",
       "      <td>0.729947</td>\n",
       "      <td>-0.203782</td>\n",
       "    </tr>\n",
       "    <tr>\n",
       "      <th>3</th>\n",
       "      <td>1.0</td>\n",
       "      <td>0.171708</td>\n",
       "      <td>0.167210</td>\n",
       "      <td>-0.530576</td>\n",
       "      <td>-0.078377</td>\n",
       "      <td>-1.333037</td>\n",
       "    </tr>\n",
       "    <tr>\n",
       "      <th>4</th>\n",
       "      <td>1.0</td>\n",
       "      <td>-1.702188</td>\n",
       "      <td>0.558336</td>\n",
       "      <td>-2.723087</td>\n",
       "      <td>-0.633625</td>\n",
       "      <td>1.259339</td>\n",
       "    </tr>\n",
       "  </tbody>\n",
       "</table>\n",
       "</div>"
      ],
      "text/plain": [
       "     0         1         2         3         4         5\n",
       "0  1.0  0.290165 -0.898712 -0.372381  0.441771  0.525024\n",
       "1  1.0 -0.842705 -0.158229 -0.723656 -0.994642  0.598960\n",
       "2  1.0  0.233004  0.157070 -0.102094  0.729947 -0.203782\n",
       "3  1.0  0.171708  0.167210 -0.530576 -0.078377 -1.333037\n",
       "4  1.0 -1.702188  0.558336 -2.723087 -0.633625  1.259339"
      ]
     },
     "execution_count": 5,
     "metadata": {},
     "output_type": "execute_result"
    }
   ],
   "source": [
    "#normalisation\n",
    "u=np.mean(X,axis=0)\n",
    "std=np.std(X,axis=0)\n",
    "X=(X-u)/std;\n",
    "df=pd.DataFrame(X);\n",
    "df.head()\n",
    "# add 1 to fist coloumn\n",
    "m=X.shape[0]\n",
    "ones=np.ones((m,1));\n",
    "X=np.hstack((ones,X));\n",
    "df=pd.DataFrame(X);\n",
    "print(X.shape)\n",
    "df.head()"
   ]
  },
  {
   "cell_type": "code",
   "execution_count": 6,
   "metadata": {},
   "outputs": [],
   "source": [
    "def hypothesis(X,theta):\n",
    "    return np.dot(X,theta);\n",
    "\n",
    "def error(X,y,theta):\n",
    "    m=X.shape[0]\n",
    "    yhat=hypothesis(X,theta);\n",
    "    \n",
    "    return np.sum((yhat-y)**2)/m;\n",
    "\n",
    "def Gradient(X,y,theta):\n",
    "    yhat=hypothesis(X,theta);\n",
    "    grad=np.dot(X.T,(yhat-y));\n",
    "    m=X.shape[0]\n",
    "    return grad/m;\n",
    "\n",
    "def Gradient_Descent(X,y,alpha=0.05,iteration=300):\n",
    "    error_list=[];\n",
    "    m,n=X.shape;\n",
    "    theta=np.zeros((n,));\n",
    "    \n",
    "    for i in range(iteration):\n",
    "        e=error(X,y,theta);\n",
    "        error_list.append(e);\n",
    "        gd=Gradient(X,y,theta)\n",
    "        stepsize=alpha*gd;\n",
    "        theta=theta-stepsize;\n",
    "    return theta,error_list;\n",
    "\n"
   ]
  },
  {
   "cell_type": "code",
   "execution_count": 7,
   "metadata": {},
   "outputs": [
    {
     "name": "stdout",
     "output_type": "stream",
     "text": [
      "[ 0.31883532 29.59357943 94.6506488   8.3754163  45.52301824  2.4645999 ]\n"
     ]
    },
    {
     "data": {
      "image/png": "[encoded data removed]",
      "text/plain": [
       "<Figure size 432x288 with 1 Axes>"
      ]
     },
     "metadata": {
      "needs_background": "light"
     },
     "output_type": "display_data"
    }
   ],
   "source": [
    "best_theta,error_list=Gradient_Descent(X,y);\n",
    "print(best_theta);\n",
    "plt.plot(error_list);"
   ]
  },
  {
   "cell_type": "code",
   "execution_count": 8,
   "metadata": {},
   "outputs": [],
   "source": [
    "def r2_score(y,yhat):\n",
    "    num=np.sum((y-yhat)**2);\n",
    "    denom=np.sum((y-y.mean())**2)\n",
    "    score=(1-num/denom)\n",
    "    return score*100;"
   ]
  },
  {
   "cell_type": "code",
   "execution_count": 9,
   "metadata": {},
   "outputs": [
    {
     "name": "stdout",
     "output_type": "stream",
     "text": [
      "(1600, 6)\n",
      "(6,)\n",
      "96.6093966997385\n"
     ]
    }
   ],
   "source": [
    "print(X.shape);\n",
    "print(best_theta.shape);\n",
    "yhat=hypothesis(X,best_theta);             \n",
    "print(r2_score(y,yhat));"
   ]
  },
  {
   "cell_type": "code",
   "execution_count": 10,
   "metadata": {},
   "outputs": [],
   "source": [
    "# now test for test data\n",
    "df=pd.read_csv(\"./Test/Test.csv\");\n",
    "df.shape;\n",
    "df.head()\n",
    "X_test=df.values;\n",
    "u=np.mean(X_test,axis=0)\n",
    "std=np.std(X_test,axis=0)\n",
    "X_test=(X_test-u)/std;\n",
    "m=X_test.shape[0];\n",
    "ones=np.ones((m,1));\n",
    "X_test=np.hstack((ones,X_test));\n",
    "yhat=hypothesis(X_test,best_theta);"
   ]
  },
  {
   "cell_type": "code",
   "execution_count": 11,
   "metadata": {},
   "outputs": [
    {
     "data": {
      "text/html": [
       "<div>\n",
       "<style scoped>\n",
       "    .dataframe tbody tr th:only-of-type {\n",
       "        vertical-align: middle;\n",
       "    }\n",
       "\n",
       "    .dataframe tbody tr th {\n",
       "        vertical-align: top;\n",
       "    }\n",
       "\n",
       "    .dataframe thead th {\n",
       "        text-align: right;\n",
       "    }\n",
       "</style>\n",
       "<table border=\"1\" class=\"dataframe\">\n",
       "  <thead>\n",
       "    <tr style=\"text-align: right;\">\n",
       "      <th></th>\n",
       "      <th>target</th>\n",
       "    </tr>\n",
       "  </thead>\n",
       "  <tbody>\n",
       "    <tr>\n",
       "      <th>0</th>\n",
       "      <td>115.771023</td>\n",
       "    </tr>\n",
       "    <tr>\n",
       "      <th>1</th>\n",
       "      <td>115.929858</td>\n",
       "    </tr>\n",
       "    <tr>\n",
       "      <th>2</th>\n",
       "      <td>-22.049907</td>\n",
       "    </tr>\n",
       "    <tr>\n",
       "      <th>3</th>\n",
       "      <td>-46.461744</td>\n",
       "    </tr>\n",
       "    <tr>\n",
       "      <th>4</th>\n",
       "      <td>-97.386669</td>\n",
       "    </tr>\n",
       "  </tbody>\n",
       "</table>\n",
       "</div>"
      ],
      "text/plain": [
       "       target\n",
       "0  115.771023\n",
       "1  115.929858\n",
       "2  -22.049907\n",
       "3  -46.461744\n",
       "4  -97.386669"
      ]
     },
     "execution_count": 11,
     "metadata": {},
     "output_type": "execute_result"
    }
   ],
   "source": [
    "df=pd.DataFrame(data=yhat,columns=[\"target\"])\n",
    "df.head()"
   ]
  },
  {
   "cell_type": "code",
   "execution_count": 12,
   "metadata": {},
   "outputs": [],
   "source": [
    "# df.to_csv?\n",
    "df.to_csv('y_predictionLR2.csv');"
   ]
  },
  {
   "cell_type": "code",
   "execution_count": null,
   "metadata": {},
   "outputs": [],
   "source": []
  }
 ],
 "metadata": {
  "kernelspec": {
   "display_name": "Python 3",
   "language": "python",
   "name": "python3"
  },
  "language_info": {
   "codemirror_mode": {
    "name": "ipython",
    "version": 3
   },
   "file_extension": ".py",
   "mimetype": "text/x-python",
   "name": "python",
   "nbconvert_exporter": "python",
   "pygments_lexer": "ipython3",
   "version": "3.7.6"
  }
 },
 "nbformat": 4,
 "nbformat_minor": 4
}
