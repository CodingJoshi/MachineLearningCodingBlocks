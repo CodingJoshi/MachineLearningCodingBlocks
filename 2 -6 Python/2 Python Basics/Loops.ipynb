{
 "cells": [
  {
   "cell_type": "code",
   "execution_count": 3,
   "metadata": {},
   "outputs": [
    {
     "name": "stdout",
     "output_type": "stream",
     "text": [
      "5\n",
      "Step :0\n",
      "Step :1\n",
      "Step :2\n",
      "Step :3\n",
      "Step :4\n",
      "loop Finished\n"
     ]
    }
   ],
   "source": [
    "n=int(input());\n",
    "i=0;\n",
    "while i<n:\n",
    "    print(\"Step :\"+str(i));\n",
    "    i+=1;\n",
    "print(\"loop Finished\");\n"
   ]
  },
  {
   "cell_type": "code",
   "execution_count": 5,
   "metadata": {},
   "outputs": [
    {
     "name": "stdout",
     "output_type": "stream",
     "text": [
      "1,2,3,4,5,6,7,8,9,"
     ]
    }
   ],
   "source": [
    "for i in range(1,10):\n",
    "    print(i,end=\",\")"
   ]
  },
  {
   "cell_type": "code",
   "execution_count": 6,
   "metadata": {},
   "outputs": [
    {
     "name": "stdout",
     "output_type": "stream",
     "text": [
      "1 , 3 , 5 , 7 , 9 , "
     ]
    }
   ],
   "source": [
    "for i in range(1,10,2):\n",
    "    print(i,end=\" , \")"
   ]
  },
  {
   "cell_type": "code",
   "execution_count": 8,
   "metadata": {},
   "outputs": [
    {
     "name": "stdout",
     "output_type": "stream",
     "text": [
      "100\n",
      "93326215443944152681699238856266700490715968264381621468592963895217599993229915608941463976156518286253697920827223758251185210916864000000000000000000000000\n"
     ]
    }
   ],
   "source": [
    "no=int(input())\n",
    "ans=1\n",
    "for i in range(1,no+1):\n",
    "    ans*=i;\n",
    "    \n",
    "print(ans);"
   ]
  },
  {
   "cell_type": "code",
   "execution_count": 12,
   "metadata": {},
   "outputs": [
    {
     "name": "stdout",
     "output_type": "stream",
     "text": [
      "10-->8-->6-->4-->2-->0\n"
     ]
    }
   ],
   "source": [
    "# Reverse Loop\n",
    "for i in range (10,1,-2):\n",
    "    print(i,end=\"-->\");\n",
    "print(0);"
   ]
  },
  {
   "cell_type": "code",
   "execution_count": 29,
   "metadata": {},
   "outputs": [
    {
     "name": "stdout",
     "output_type": "stream",
     "text": [
      "4\n",
      "5\n",
      "[0,0] [0,1] [0,2] [0,3] [0,4] \n",
      "\n",
      "[1,0] [1,1] [1,2] [1,3] [1,4] \n",
      "\n",
      "[2,0] [2,1] [2,2] [2,3] [2,4] \n",
      "\n",
      "[3,0] [3,1] [3,2] [3,3] [3,4] \n",
      "\n"
     ]
    }
   ],
   "source": [
    "# nested Loop\n",
    "n=int(input());\n",
    "m=int(input());\n",
    "for i in range (0,n):\n",
    "    for j in range (0,m):\n",
    "        print(\"[{},{}]\".format(i,j),end=\" \");\n",
    "    print();\n",
    "        "
   ]
  },
  {
   "cell_type": "code",
   "execution_count": 32,
   "metadata": {},
   "outputs": [
    {
     "name": "stdout",
     "output_type": "stream",
     "text": [
      "6\n",
      "6\n",
      "6 6 6 6 6 6 \n",
      "6 5 5 5 5 6 \n",
      "6 5 4 4 5 6 \n",
      "6 5 4 4 5 6 \n",
      "6 5 5 5 5 6 \n",
      "6 6 6 6 6 6 \n"
     ]
    }
   ],
   "source": [
    "# nested Loop\n",
    "n=int(input());\n",
    "m=int(input());\n",
    "for i in range (0,n):\n",
    "    for j in range (0,m):\n",
    "        print(max(i+1,j+1,n-i,m-j),end=\" \");\n",
    "    print();"
   ]
  },
  {
   "cell_type": "code",
   "execution_count": null,
   "metadata": {},
   "outputs": [],
   "source": []
  }
 ],
 "metadata": {
  "kernelspec": {
   "display_name": "Python 3",
   "language": "python",
   "name": "python3"
  },
  "language_info": {
   "codemirror_mode": {
    "name": "ipython",
    "version": 3
   },
   "file_extension": ".py",
   "mimetype": "text/x-python",
   "name": "python",
   "nbconvert_exporter": "python",
   "pygments_lexer": "ipython3",
   "version": "3.6.9"
  }
 },
 "nbformat": 4,
 "nbformat_minor": 2
}
