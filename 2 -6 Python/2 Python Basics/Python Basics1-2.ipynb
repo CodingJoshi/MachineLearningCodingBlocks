{
 "cells": [
  {
   "cell_type": "code",
   "execution_count": null,
   "metadata": {},
   "outputs": [],
   "source": [
    "#this is a comment\n",
    "\"\"\"this is\n",
    "a multiple line commment\"\"\""
   ]
  },
  {
   "cell_type": "code",
   "execution_count": 3,
   "metadata": {},
   "outputs": [
    {
     "data": {
      "text/plain": [
       "125"
      ]
     },
     "execution_count": 3,
     "metadata": {},
     "output_type": "execute_result"
    }
   ],
   "source": [
    "5**3\n"
   ]
  },
  {
   "cell_type": "code",
   "execution_count": 4,
   "metadata": {},
   "outputs": [
    {
     "name": "stdout",
     "output_type": "stream",
     "text": [
      "<class 'str'>\n",
      "<class 'str'>\n",
      "<class 'str'>\n"
     ]
    }
   ],
   "source": [
    "'a'\n",
    "print(type('a'))\n",
    "print(type(\"a\"))\n",
    "print(type(\"\"\"a\"\"\"))"
   ]
  },
  {
   "cell_type": "code",
   "execution_count": 5,
   "metadata": {},
   "outputs": [
    {
     "name": "stdout",
     "output_type": "stream",
     "text": [
      "hello \n",
      " world\n"
     ]
    }
   ],
   "source": [
    "print (\"hello \\n world\")\n"
   ]
  },
  {
   "cell_type": "code",
   "execution_count": 9,
   "metadata": {},
   "outputs": [
    {
     "name": "stdout",
     "output_type": "stream",
     "text": [
      "capital of india is Delhi\n"
     ]
    }
   ],
   "source": [
    "my_string=(\"capital of %s is %s\" % (\"india\",\"Delhi\"))\n",
    "print(my_string);"
   ]
  },
  {
   "cell_type": "code",
   "execution_count": 14,
   "metadata": {},
   "outputs": [
    {
     "name": "stdout",
     "output_type": "stream",
     "text": [
      " capital of india is Delhi \n"
     ]
    }
   ],
   "source": [
    "my_string2 = \" capital of {} is {} \".format(\"india\",\"Delhi\")\n",
    "print(my_string2)"
   ]
  },
  {
   "cell_type": "code",
   "execution_count": 15,
   "metadata": {},
   "outputs": [
    {
     "name": "stdout",
     "output_type": "stream",
     "text": [
      "hello World!\n",
      "Hello Everyone!\n"
     ]
    }
   ],
   "source": [
    "print(\"hello World!\");\n",
    "print(\"Hello Everyone!\");"
   ]
  },
  {
   "cell_type": "code",
   "execution_count": 18,
   "metadata": {},
   "outputs": [
    {
     "name": "stdout",
     "output_type": "stream",
     "text": [
      "hello World! Hello Everyone!\n",
      "hello World! , Hello Everyone!\n",
      "hello World!Hello Everyone!\n"
     ]
    }
   ],
   "source": [
    "print(\"hello World!\",end=\" \");\n",
    "print(\"Hello Everyone!\");\n",
    "\n",
    "print(\"hello World!\",end=\" , \");\n",
    "print(\"Hello Everyone!\");\n",
    "\n",
    "print(\"hello World!\",end=\"\");\n",
    "print(\"Hello Everyone!\");"
   ]
  },
  {
   "cell_type": "code",
   "execution_count": 19,
   "metadata": {},
   "outputs": [
    {
     "name": "stdout",
     "output_type": "stream",
     "text": [
      "A\n",
      "B\n",
      "c\n",
      "d\n"
     ]
    }
   ],
   "source": [
    "print(\"A\",\"B\",\"c\",\"d\",sep=\"\\n\");"
   ]
  },
  {
   "cell_type": "code",
   "execution_count": null,
   "metadata": {},
   "outputs": [],
   "source": []
  }
 ],
 "metadata": {
  "kernelspec": {
   "display_name": "Python 3",
   "language": "python",
   "name": "python3"
  },
  "language_info": {
   "codemirror_mode": {
    "name": "ipython",
    "version": 3
   },
   "file_extension": ".py",
   "mimetype": "text/x-python",
   "name": "python",
   "nbconvert_exporter": "python",
   "pygments_lexer": "ipython3",
   "version": "3.6.9"
  }
 },
 "nbformat": 4,
 "nbformat_minor": 2
}
