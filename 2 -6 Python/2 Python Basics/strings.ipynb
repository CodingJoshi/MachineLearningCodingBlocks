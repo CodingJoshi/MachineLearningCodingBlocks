{
 "cells": [
  {
   "cell_type": "code",
   "execution_count": 1,
   "metadata": {},
   "outputs": [
    {
     "name": "stdout",
     "output_type": "stream",
     "text": [
      "Techies Code\n"
     ]
    }
   ],
   "source": [
    "a=\"Techies Code\"\n",
    "print(a)"
   ]
  },
  {
   "cell_type": "code",
   "execution_count": 2,
   "metadata": {},
   "outputs": [
    {
     "name": "stdout",
     "output_type": "stream",
     "text": [
      "c\n"
     ]
    }
   ],
   "source": [
    "print(a[2])"
   ]
  },
  {
   "cell_type": "code",
   "execution_count": 4,
   "metadata": {},
   "outputs": [
    {
     "name": "stdout",
     "output_type": "stream",
     "text": [
      "e\n"
     ]
    }
   ],
   "source": [
    "print(a[-1])"
   ]
  },
  {
   "cell_type": "code",
   "execution_count": 5,
   "metadata": {},
   "outputs": [
    {
     "name": "stdout",
     "output_type": "stream",
     "text": [
      "Tehie's Code\n"
     ]
    }
   ],
   "source": [
    "# String are not Mutable\n",
    "a=\"Tehie's Code\"\n",
    "print (a)"
   ]
  },
  {
   "cell_type": "code",
   "execution_count": 6,
   "metadata": {},
   "outputs": [
    {
     "name": "stdout",
     "output_type": "stream",
     "text": [
      "T\n",
      "e\n",
      "h\n",
      "i\n",
      "e\n",
      "'\n",
      "s\n",
      " \n",
      "C\n",
      "o\n",
      "d\n",
      "e\n"
     ]
    }
   ],
   "source": [
    "for i in range(len(a)):\n",
    "    print(a[i]);"
   ]
  },
  {
   "cell_type": "code",
   "execution_count": 10,
   "metadata": {},
   "outputs": [
    {
     "name": "stdout",
     "output_type": "stream",
     "text": [
      "T\n",
      "e\n",
      "h\n",
      "i\n",
      "e\n",
      "'\n",
      "s\n",
      " \n",
      "C\n",
      "o\n",
      "d\n",
      "e\n"
     ]
    }
   ],
   "source": [
    "# For each Loop\n",
    "for it in a :\n",
    "    print(it);"
   ]
  },
  {
   "cell_type": "code",
   "execution_count": 11,
   "metadata": {},
   "outputs": [
    {
     "name": "stdout",
     "output_type": "stream",
     "text": [
      "mangoJuice\n",
      "mangomangomangomango\n"
     ]
    }
   ],
   "source": [
    "a=\"mango\";\n",
    "b=\"Juice\";\n",
    "print(a+b);\n",
    "print(a*4)"
   ]
  },
  {
   "cell_type": "code",
   "execution_count": 21,
   "metadata": {},
   "outputs": [
    {
     "name": "stdout",
     "output_type": "stream",
     "text": [
      "echie's Code\n",
      "Techie's Code\n",
      "Techie's Co\n",
      "chi\n",
      "de\n"
     ]
    }
   ],
   "source": [
    "# Sliciing a[s:e+1]\n",
    "a=\"Techie's Code\"\n",
    "print(a[:])\n",
    "print(a[1:])\n",
    "print(a[:-2])\n",
    "print(a[2:5])\n",
    "print(a[-2:])"
   ]
  },
  {
   "cell_type": "code",
   "execution_count": 22,
   "metadata": {},
   "outputs": [
    {
     "name": "stdout",
     "output_type": "stream",
     "text": [
      "Yes\n"
     ]
    }
   ],
   "source": [
    "#Membership\n",
    "\n",
    "a=\"Techies Code\"\n",
    "b=\"Code\"\n",
    "if b in a:\n",
    "    print(\"Yes\")\n",
    "else:\n",
    "    print(\"NO\")\n",
    "    \n",
    "    \n",
    "        "
   ]
  },
  {
   "cell_type": "code",
   "execution_count": 23,
   "metadata": {},
   "outputs": [
    {
     "name": "stdout",
     "output_type": "stream",
     "text": [
      "my favroite fruit is mango and it comes fromindia\n"
     ]
    }
   ],
   "source": [
    "# String formating\n",
    "print(\"my favroite fruit is %s and it comes from%s\"%(\"mango\",\"india\"))"
   ]
  },
  {
   "cell_type": "code",
   "execution_count": 25,
   "metadata": {},
   "outputs": [
    {
     "name": "stdout",
     "output_type": "stream",
     "text": [
      "this is some para\n",
      "graph writtten here\n",
      "i hope \n",
      "you understand\n",
      "\n"
     ]
    }
   ],
   "source": [
    "para=\"\"\"this is some para\n",
    "graph writtten here\n",
    "i hope \n",
    "you understand\n",
    "\"\"\"\n",
    "print(para);"
   ]
  },
  {
   "cell_type": "code",
   "execution_count": 28,
   "metadata": {},
   "outputs": [
    {
     "name": "stdout",
     "output_type": "stream",
     "text": [
      "<class 'list'>\n",
      "<class 'str'>\n"
     ]
    }
   ],
   "source": [
    "l=para.split()\n",
    "print(type(l))\n",
    "print(type(l[0]))"
   ]
  },
  {
   "cell_type": "code",
   "execution_count": 29,
   "metadata": {},
   "outputs": [
    {
     "data": {
      "text/plain": [
       "['this is some para', 'graph writtten here', 'i hope ', 'you understand']"
      ]
     },
     "execution_count": 29,
     "metadata": {},
     "output_type": "execute_result"
    }
   ],
   "source": [
    "# spilt aboutlines\n",
    "para.splitlines()"
   ]
  },
  {
   "cell_type": "code",
   "execution_count": 32,
   "metadata": {},
   "outputs": [
    {
     "name": "stdout",
     "output_type": "stream",
     "text": [
      "MANGO\n",
      "mango\n"
     ]
    }
   ],
   "source": [
    "fruit=\"mango\";\n",
    "fruit=fruit.upper();\n",
    "print(fruit)\n",
    "fruit=fruit.lower();\n",
    "print(fruit)"
   ]
  },
  {
   "cell_type": "code",
   "execution_count": 37,
   "metadata": {},
   "outputs": [
    {
     "name": "stdout",
     "output_type": "stream",
     "text": [
      "  Apple Shake \n",
      "14\n",
      "Apple Shake\n",
      "11\n"
     ]
    }
   ],
   "source": [
    "shake=\"  Apple Shake \";\n",
    "print(shake)\n",
    "print(len(shake))\n",
    "shake=shake.lstrip();\n",
    "shake=shake.rstrip();\n",
    "print(shake);\n",
    "print(len(shake))"
   ]
  },
  {
   "cell_type": "code",
   "execution_count": 38,
   "metadata": {},
   "outputs": [
    {
     "name": "stdout",
     "output_type": "stream",
     "text": [
      "  Apple Shake \n",
      "Apple Shake\n",
      "11\n"
     ]
    }
   ],
   "source": [
    "shake=\"  Apple Shake \";\n",
    "print(shake)\n",
    "shake=shake.strip();\n",
    "print(shake);\n",
    "print(len(shake))"
   ]
  },
  {
   "cell_type": "code",
   "execution_count": 40,
   "metadata": {},
   "outputs": [
    {
     "name": "stdout",
     "output_type": "stream",
     "text": [
      "True\n"
     ]
    }
   ],
   "source": [
    "a=\"93\"\n",
    "print(a.isdigit());"
   ]
  },
  {
   "cell_type": "code",
   "execution_count": 41,
   "metadata": {},
   "outputs": [
    {
     "name": "stdout",
     "output_type": "stream",
     "text": [
      "True\n"
     ]
    }
   ],
   "source": [
    "a=\"12abvsdc\"\n",
    "print(a.isalnum());"
   ]
  },
  {
   "cell_type": "code",
   "execution_count": 49,
   "metadata": {},
   "outputs": [
    {
     "name": "stdout",
     "output_type": "stream",
     "text": [
      "14\n",
      "50\n",
      "50\n"
     ]
    }
   ],
   "source": [
    "# Find Function\n",
    "\n",
    "a=\"i love having Apple juice and i like to eat green Apple\";\n",
    "print(a.find(\"Apple\"));\n",
    "print(a.rfind(\"Apple\"));\n",
    "print(a.find(\"Apple\",30,len(a)))"
   ]
  },
  {
   "cell_type": "code",
   "execution_count": 50,
   "metadata": {},
   "outputs": [
    {
     "name": "stdout",
     "output_type": "stream",
     "text": [
      "i love having Mango juice and i like to eat green Mango\n"
     ]
    }
   ],
   "source": [
    "a=a.replace(\"Apple\",\"Mango\")\n",
    "print(a)"
   ]
  },
  {
   "cell_type": "code",
   "execution_count": 52,
   "metadata": {},
   "outputs": [
    {
     "data": {
      "text/plain": [
       "2"
      ]
     },
     "execution_count": 52,
     "metadata": {},
     "output_type": "execute_result"
    }
   ],
   "source": [
    "a.count((\"Mango\"))"
   ]
  },
  {
   "cell_type": "code",
   "execution_count": 55,
   "metadata": {},
   "outputs": [
    {
     "name": "stdout",
     "output_type": "stream",
     "text": [
      "['i', 'love', 'having', 'Mango', 'juice', 'and', 'i', 'like', 'to', 'eat', 'green', 'Mango']\n"
     ]
    }
   ],
   "source": [
    "l=a.split();\n",
    "print(l);"
   ]
  },
  {
   "cell_type": "code",
   "execution_count": 58,
   "metadata": {},
   "outputs": [
    {
     "data": {
      "text/plain": [
       "'i_love_having_Mango_juice_and_i_like_to_eat_green_Mango'"
      ]
     },
     "execution_count": 58,
     "metadata": {},
     "output_type": "execute_result"
    }
   ],
   "source": [
    "b=\"_\"\n",
    "b.join(l)"
   ]
  },
  {
   "cell_type": "code",
   "execution_count": 59,
   "metadata": {},
   "outputs": [
    {
     "data": {
      "text/plain": [
       "'I love having mango juice and i like to eat green mango'"
      ]
     },
     "execution_count": 59,
     "metadata": {},
     "output_type": "execute_result"
    }
   ],
   "source": [
    "a.capitalize()"
   ]
  },
  {
   "cell_type": "code",
   "execution_count": 60,
   "metadata": {},
   "outputs": [
    {
     "data": {
      "text/plain": [
       "'I Love Having Mango Juice And I Like To Eat Green Mango'"
      ]
     },
     "execution_count": 60,
     "metadata": {},
     "output_type": "execute_result"
    }
   ],
   "source": [
    "a.title()"
   ]
  },
  {
   "cell_type": "code",
   "execution_count": null,
   "metadata": {},
   "outputs": [],
   "source": []
  }
 ],
 "metadata": {
  "kernelspec": {
   "display_name": "Python 3",
   "language": "python",
   "name": "python3"
  },
  "language_info": {
   "codemirror_mode": {
    "name": "ipython",
    "version": 3
   },
   "file_extension": ".py",
   "mimetype": "text/x-python",
   "name": "python",
   "nbconvert_exporter": "python",
   "pygments_lexer": "ipython3",
   "version": "3.7.6"
  }
 },
 "nbformat": 4,
 "nbformat_minor": 4
}
