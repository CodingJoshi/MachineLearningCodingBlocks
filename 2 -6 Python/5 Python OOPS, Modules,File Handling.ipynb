{
 "cells": [
  {
   "cell_type": "markdown",
   "metadata": {},
   "source": [
    "# Modules"
   ]
  },
  {
   "cell_type": "code",
   "execution_count": 4,
   "metadata": {},
   "outputs": [
    {
     "name": "stdout",
     "output_type": "stream",
     "text": [
      "120\n",
      "5040\n"
     ]
    }
   ],
   "source": [
    "# import math #it will include whole library but if you need only one function\n",
    "\n",
    "# print(math.factorial(5))\n",
    "\n",
    "from math import factorial\n",
    "print(factorial(5))\n",
    "\n",
    "from math import factorial as fac\n",
    "print(fac(7))"
   ]
  },
  {
   "cell_type": "code",
   "execution_count": 12,
   "metadata": {},
   "outputs": [
    {
     "name": "stdout",
     "output_type": "stream",
     "text": [
      "7\n",
      "6\n",
      "1.0\n",
      "3.141592653589793\n",
      "inf\n",
      "-inf\n",
      "15\n",
      "5\n",
      "1\n",
      "\n",
      "\n",
      "\n"
     ]
    }
   ],
   "source": [
    "import math\n",
    "\n",
    "print(math.floor(15/2))\n",
    "print(math.gcd(12,6))\n",
    "print(math.log(math.e))\n",
    "print(math.pi)\n",
    "print(math.inf)\n",
    "print(-math.inf)\n",
    "print(sum([1,2,3,4,5]))\n",
    "print(max([1,2,3,4,5]))\n",
    "print(min([1,2,3,4,5]))"
   ]
  },
  {
   "cell_type": "markdown",
   "metadata": {},
   "source": [
    "### Sys Module"
   ]
  },
  {
   "cell_type": "code",
   "execution_count": 1,
   "metadata": {},
   "outputs": [
    {
     "name": "stdout",
     "output_type": "stream",
     "text": [
      "['/home/saurabh/anaconda3/lib/python3.7/site-packages/ipykernel_launcher.py', '-f', '/home/saurabh/.local/share/jupyter/runtime/kernel-6ecc655d-6795-481a-8d51-a012651fcd17.json']\n"
     ]
    }
   ],
   "source": [
    "import sys\n",
    "def printData():\n",
    "    print(sys.argv)\n",
    "\n",
    "printData()"
   ]
  },
  {
   "cell_type": "code",
   "execution_count": null,
   "metadata": {},
   "outputs": [],
   "source": []
  },
  {
   "cell_type": "code",
   "execution_count": null,
   "metadata": {},
   "outputs": [],
   "source": []
  },
  {
   "cell_type": "markdown",
   "metadata": {},
   "source": [
    "## OOPS in  Python \n",
    " \n",
    " A minimalistic Python Class"
   ]
  },
  {
   "cell_type": "code",
   "execution_count": 14,
   "metadata": {},
   "outputs": [
    {
     "name": "stdout",
     "output_type": "stream",
     "text": [
      "<class '__main__.Person'>\n"
     ]
    }
   ],
   "source": [
    "class Person():\n",
    "    pass\n",
    "\n",
    "p=Person()\n",
    "print(type(p))"
   ]
  },
  {
   "cell_type": "code",
   "execution_count": 23,
   "metadata": {},
   "outputs": [
    {
     "name": "stdout",
     "output_type": "stream",
     "text": [
      "My name is  Saurabh Joshi\n",
      "currently pursuing B.E degree form NSUT\n",
      "I am  Indian\n",
      "Hello Saurabh Joshi\n",
      "My name is  Pankaj Joshi\n",
      "currently pursuing B Tech degree form IITD\n",
      "I am  Indian\n",
      "Hello Pankaj Joshi\n"
     ]
    }
   ],
   "source": [
    "class Person():\n",
    "    \n",
    "    nationality=\"Indian\"\n",
    "    Course=\"Btech\"  \n",
    "    \n",
    "#     Above properties are common for all instances\n",
    "    \n",
    "    def __init__ (self,pname,clg,cour):\n",
    "        self.name=pname\n",
    "        self.college=clg\n",
    "        self.Course=cour\n",
    "\n",
    "    def sayhi(self):\n",
    "        print(\"Hello \"+self.name);\n",
    "        \n",
    "    def Introduce(self):\n",
    "        print(\"My name is \",self.name)\n",
    "        print(\"currently pursuing {} degree form {}\".format(self.Course,self.college))\n",
    "        print(\"I am \",self.nationality)\n",
    "        \n",
    "        \n",
    "p=Person(\"Saurabh Joshi\",\"NSUT\",\"B.E\");\n",
    "p.Introduce()\n",
    "p.sayhi();\n",
    "\n",
    "\n",
    "p2=Person(\"Pankaj Joshi\",\"IITD\",\"B Tech\");\n",
    "p2.Introduce()\n",
    "p2.sayhi();\n"
   ]
  },
  {
   "cell_type": "code",
   "execution_count": 18,
   "metadata": {},
   "outputs": [
    {
     "name": "stdout",
     "output_type": "stream",
     "text": [
      "German Shepherd\n",
      "['HighJump', 'Roll Over', 'LowJump', 'Roll Upside Down']\n",
      "German Shepherd is Doing Secret Activity \n",
      "Golden Retriever\n",
      "['HighJump', 'Roll Over', 'LowJump', 'Roll Upside Down']\n",
      "Golden Retriever is Doing Secret Activity \n"
     ]
    }
   ],
   "source": [
    "class Dog():\n",
    "    color=\"Brown\"\n",
    "    activities=[]\n",
    "    \n",
    "    def __init__(self,breed):\n",
    "        \"\"\"This method accepts breed of dog and initialisies it\"\"\"\n",
    "        self.breed=breed;\n",
    "    def addActivity(self,act):\n",
    "        self.activities.append(act)\n",
    "    \n",
    "    def _secretActivity(self):\n",
    "        print(\"{} is Doing Secret Activity \".format(self.breed))\n",
    "    \n",
    "    def doActivity(self):\n",
    "        print(self.breed)\n",
    "        print(self.activities)\n",
    "        self._secretActivity();\n",
    "    \n",
    "    \n",
    "d1 = Dog(\"German Shepherd\")\n",
    "d2=Dog(\"Golden Retriever\")\n",
    "\n",
    "d1.addActivity(\"HighJump\")\n",
    "d1.addActivity(\"Roll Over\")\n",
    "\n",
    "d2.addActivity(\"LowJump\")\n",
    "d2.addActivity(\"Roll Upside Down\")\n",
    "\n",
    "d1.doActivity()\n",
    "d2.doActivity()\n",
    "\n",
    "Dog?\n",
    "\n",
    "# d1.secretActivity()\n",
    "# d2.secretActivity()\n",
    "#all activities are added to common list"
   ]
  },
  {
   "cell_type": "markdown",
   "metadata": {},
   "source": [
    "### Access Modifiers"
   ]
  },
  {
   "cell_type": "markdown",
   "metadata": {},
   "source": [
    "public private \n",
    "\n",
    "by default all memberes are Public\n",
    "\n",
    "to make a function private we have to put _ in fornt of it"
   ]
  },
  {
   "cell_type": "markdown",
   "metadata": {},
   "source": [
    "\n",
    "## Inheritace"
   ]
  },
  {
   "cell_type": "code",
   "execution_count": 23,
   "metadata": {},
   "outputs": [
    {
     "name": "stdout",
     "output_type": "stream",
     "text": [
      "init School Member: Mr.Alpha\n",
      "init Teacher : 45000\n"
     ]
    }
   ],
   "source": [
    "class SchoolMember:\n",
    "    def __init__(self,name,age):\n",
    "        self.name=name;\n",
    "        self.age=age\n",
    "        print(\"init School Member: %s\"%self.name)\n",
    "        \n",
    "    def introduce(self):\n",
    "        print(\"Name :%s %d \"%(self.name,self.age))\n",
    "              \n",
    "class Teacher(SchoolMember):\n",
    "          def __init__(self,name,age,salary):\n",
    "              SchoolMember.__init__(self,name,age)\n",
    "              self.salary=salary\n",
    "              print(\"init Teacher : %s\"%self.salary)\n",
    "                \n",
    "          def introduce(self):\n",
    "              SchoolMember.introduce(self)\n",
    "              print(\"Salary : %d\"%(self.salary))\n",
    "\n",
    "            \n",
    "class Student(SchoolMember):\n",
    "    def __init__(self,name,age,marks):\n",
    "        SchoolMember.__init__(self,name,age)\n",
    "        self.marks=marks\n",
    "        print(\"Init Student %s\"%(self.name))\n",
    "    def introduce(self):\n",
    "        SchoolMember.introduce(self);\n",
    "        print(\"Marks: %d\"%self.marks)\n",
    "\n",
    "        \n",
    "        t=Teacher(\"Mr.Alpha\",30,45000)"
   ]
  },
  {
   "cell_type": "markdown",
   "metadata": {},
   "source": [
    "# File Access Mode"
   ]
  },
  {
   "cell_type": "markdown",
   "metadata": {},
   "source": [
    "## 1. Text File"
   ]
  },
  {
   "cell_type": "markdown",
   "metadata": {},
   "source": [
    "### Opening a file"
   ]
  },
  {
   "cell_type": "code",
   "execution_count": 15,
   "metadata": {},
   "outputs": [],
   "source": [
    "file=open(\"Hello.txt\",\"r\")"
   ]
  },
  {
   "cell_type": "code",
   "execution_count": 16,
   "metadata": {},
   "outputs": [
    {
     "data": {
      "text/plain": [
       "'this'"
      ]
     },
     "execution_count": 16,
     "metadata": {},
     "output_type": "execute_result"
    }
   ],
   "source": [
    "file.read(4)"
   ]
  },
  {
   "cell_type": "code",
   "execution_count": 8,
   "metadata": {},
   "outputs": [],
   "source": [
    "file.close()"
   ]
  },
  {
   "cell_type": "code",
   "execution_count": 17,
   "metadata": {},
   "outputs": [],
   "source": [
    "file=open(\"something.txt\",\"w\")"
   ]
  },
  {
   "cell_type": "code",
   "execution_count": 18,
   "metadata": {},
   "outputs": [
    {
     "data": {
      "text/plain": [
       "21"
      ]
     },
     "execution_count": 18,
     "metadata": {},
     "output_type": "execute_result"
    }
   ],
   "source": [
    "file.write(\"hello from other side\")"
   ]
  },
  {
   "cell_type": "code",
   "execution_count": 19,
   "metadata": {},
   "outputs": [],
   "source": [
    "file.close()"
   ]
  },
  {
   "cell_type": "code",
   "execution_count": 29,
   "metadata": {},
   "outputs": [],
   "source": [
    "file=open(\"Hello.txt\");"
   ]
  },
  {
   "cell_type": "code",
   "execution_count": 28,
   "metadata": {},
   "outputs": [
    {
     "data": {
      "text/plain": [
       "''"
      ]
     },
     "execution_count": 28,
     "metadata": {},
     "output_type": "execute_result"
    }
   ],
   "source": [
    "file.readline()"
   ]
  },
  {
   "cell_type": "code",
   "execution_count": 31,
   "metadata": {},
   "outputs": [
    {
     "data": {
      "text/plain": [
       "['this is dummy Hello.txt file\\n',\n",
       " 'hello\\n',\n",
       " 'hello again\\n',\n",
       " 'hello sir hello']"
      ]
     },
     "execution_count": 31,
     "metadata": {},
     "output_type": "execute_result"
    }
   ],
   "source": [
    "file.readlines()"
   ]
  },
  {
   "cell_type": "code",
   "execution_count": 32,
   "metadata": {},
   "outputs": [],
   "source": [
    "file=open(\"Hello.txt\",\"r\")"
   ]
  },
  {
   "cell_type": "code",
   "execution_count": 33,
   "metadata": {},
   "outputs": [
    {
     "data": {
      "text/plain": [
       "'this '"
      ]
     },
     "execution_count": 33,
     "metadata": {},
     "output_type": "execute_result"
    }
   ],
   "source": [
    "file.read(5)"
   ]
  },
  {
   "cell_type": "code",
   "execution_count": 34,
   "metadata": {},
   "outputs": [
    {
     "data": {
      "text/plain": [
       "'is dummy Hello.txt file\\nhello\\nhello again\\nhello sir hello'"
      ]
     },
     "execution_count": 34,
     "metadata": {},
     "output_type": "execute_result"
    }
   ],
   "source": [
    "file.read()"
   ]
  },
  {
   "cell_type": "code",
   "execution_count": 35,
   "metadata": {},
   "outputs": [
    {
     "data": {
      "text/plain": [
       "''"
      ]
     },
     "execution_count": 35,
     "metadata": {},
     "output_type": "execute_result"
    }
   ],
   "source": [
    "file.read()"
   ]
  },
  {
   "cell_type": "code",
   "execution_count": 39,
   "metadata": {},
   "outputs": [
    {
     "data": {
      "text/plain": [
       "'this is dummy Hello.txt file\\nhello\\nhello again\\nhello sir hello'"
      ]
     },
     "execution_count": 39,
     "metadata": {},
     "output_type": "execute_result"
    }
   ],
   "source": [
    "file.seek(0)\n",
    "file.read()"
   ]
  },
  {
   "cell_type": "code",
   "execution_count": 40,
   "metadata": {},
   "outputs": [
    {
     "name": "stdout",
     "output_type": "stream",
     "text": [
      "this is dummy Hello.txt file\n",
      "hello\n",
      "hello again\n",
      "hello sir hello\n",
      "is dummy Hello.txt file\n",
      "hello\n",
      "hello again\n",
      "hello sir hello\n"
     ]
    },
    {
     "ename": "ValueError",
     "evalue": "I/O operation on closed file.",
     "output_type": "error",
     "traceback": [
      "\u001b[0;31m---------------------------------------------------------------------------\u001b[0m",
      "\u001b[0;31mValueError\u001b[0m                                Traceback (most recent call last)",
      "\u001b[0;32m<ipython-input-40-21658a8898f8>\u001b[0m in \u001b[0;36m<module>\u001b[0;34m\u001b[0m\n\u001b[1;32m      4\u001b[0m     \u001b[0mprint\u001b[0m\u001b[0;34m(\u001b[0m\u001b[0mfile\u001b[0m\u001b[0;34m.\u001b[0m\u001b[0mread\u001b[0m\u001b[0;34m(\u001b[0m\u001b[0;34m)\u001b[0m\u001b[0;34m)\u001b[0m\u001b[0;34m\u001b[0m\u001b[0;34m\u001b[0m\u001b[0m\n\u001b[1;32m      5\u001b[0m \u001b[0;34m\u001b[0m\u001b[0m\n\u001b[0;32m----> 6\u001b[0;31m \u001b[0mfile\u001b[0m\u001b[0;34m.\u001b[0m\u001b[0mread\u001b[0m\u001b[0;34m(\u001b[0m\u001b[0;34m)\u001b[0m\u001b[0;34m\u001b[0m\u001b[0;34m\u001b[0m\u001b[0m\n\u001b[0m",
      "\u001b[0;31mValueError\u001b[0m: I/O operation on closed file."
     ]
    }
   ],
   "source": [
    "with open(\"Hello.txt\",\"r\") as file:\n",
    "    print(file.read());\n",
    "    file.seek(5)\n",
    "    print(file.read())\n",
    "\n",
    "file.read()"
   ]
  },
  {
   "cell_type": "markdown",
   "metadata": {},
   "source": [
    "## it has 4 methods \n",
    "- **json.dump(obj,fileObj)**: Serializes obj as a JSON formatted stream to fileObj.\n",
    "- **json.dumps(obj)**: Serializes obj as a JSON formatted string.\n",
    "- __json.load(JSONfile)__: De-serialie JSONfile to a python object.\n",
    "- __json.loads(JSONfile)__: De-serialie JSONfile(type:string) to a python object."
   ]
  },
  {
   "cell_type": "code",
   "execution_count": 1,
   "metadata": {},
   "outputs": [],
   "source": [
    "import json"
   ]
  },
  {
   "cell_type": "code",
   "execution_count": 5,
   "metadata": {},
   "outputs": [
    {
     "name": "stdout",
     "output_type": "stream",
     "text": [
      "module imported\n"
     ]
    }
   ],
   "source": [
    "import sys\n",
    "\n",
    "modulename = 'json'\n",
    "if modulename not in sys.modules:\n",
    "    print ('You have not imported the {} module'.format(modulename))\n",
    "else :\n",
    "    print(\"module imported\")"
   ]
  },
  {
   "cell_type": "code",
   "execution_count": 16,
   "metadata": {},
   "outputs": [
    {
     "name": "stdout",
     "output_type": "stream",
     "text": [
      "{\n",
      "    \"name\": \"Saurabh\",\n",
      "    \"marks\":90,\n",
      "    \"Languages\":[\"c++\",\"python\"]\n",
      "}\n",
      "<class 'dict'>\n",
      "Saurabh\n",
      "['c++', 'python']\n",
      "c++\n"
     ]
    }
   ],
   "source": [
    "with open(\"data.json\",\"r\") as file:\n",
    "    print(file.read())\n",
    "    file.seek(0)\n",
    "    #this is most important to move cursor at start\n",
    "    d=json.load(file);\n",
    "    print(type(d))\n",
    "    print(d[\"name\"])\n",
    "    print(d[\"Languages\"])\n",
    "    print(d[\"Languages\"][0])"
   ]
  },
  {
   "cell_type": "code",
   "execution_count": 17,
   "metadata": {},
   "outputs": [
    {
     "name": "stdout",
     "output_type": "stream",
     "text": [
      "{\n",
      "    \"name\": \"Saurabh\",\n",
      "    \"marks\":90,\n",
      "    \"Languages\":[\"c++\",\"python\"]\n",
      "}\n",
      "{'name': 'Saurabh', 'marks': 90, 'Languages': ['c++', 'python']}\n"
     ]
    }
   ],
   "source": [
    "#another way is doing string\n",
    "with open(\"data.json\",\"r\") as file:\n",
    "    data=file.read()\n",
    "    print(data)\n",
    "    d=json.loads(data)\n",
    "    print(d)"
   ]
  },
  {
   "cell_type": "code",
   "execution_count": 23,
   "metadata": {},
   "outputs": [],
   "source": [
    "#dictonary to json\n",
    "d={'name': 'Saurabh', 'marks': 90, 'Languages': ['c++', 'python'],}"
   ]
  },
  {
   "cell_type": "code",
   "execution_count": 24,
   "metadata": {},
   "outputs": [
    {
     "data": {
      "text/plain": [
       "'Saurabh'"
      ]
     },
     "execution_count": 24,
     "metadata": {},
     "output_type": "execute_result"
    }
   ],
   "source": [
    "d[\"name\"]"
   ]
  },
  {
   "cell_type": "code",
   "execution_count": 26,
   "metadata": {},
   "outputs": [
    {
     "name": "stdout",
     "output_type": "stream",
     "text": [
      "<class 'str'>\n",
      "{\"name\": \"Saurabh\", \"marks\": 90, \"Languages\": [\"c++\", \"python\"]}\n"
     ]
    }
   ],
   "source": [
    "string =json.dumps(d)\n",
    "print(type(string))\n",
    "print(string)\n",
    "# look carefully the comma is now removed which is in dictonary but not in json file"
   ]
  },
  {
   "cell_type": "code",
   "execution_count": 42,
   "metadata": {},
   "outputs": [],
   "source": [
    "\n",
    "with open(\"data2.json\",\"w\") as file:\n",
    "    json.dump(d,file)"
   ]
  },
  {
   "cell_type": "code",
   "execution_count": 44,
   "metadata": {},
   "outputs": [
    {
     "name": "stdout",
     "output_type": "stream",
     "text": [
      "undefined variables\n"
     ]
    }
   ],
   "source": [
    "try:\n",
    "    a=B;\n",
    "    a=10/0\n",
    "    f=open(\"someMissingFil.text\",'r')\n",
    "except NameError:\n",
    "        print(\"undefined variables\")\n",
    "except FileNotFoundError:\n",
    "    print(\"file doesn't exist.Please reupload\");\n",
    "except Exception:\n",
    "    print(\"something went wrong\")\n",
    "#     print(Exception)"
   ]
  },
  {
   "cell_type": "code",
   "execution_count": 47,
   "metadata": {},
   "outputs": [
    {
     "name": "stdout",
     "output_type": "stream",
     "text": [
      "enter your namesd\n",
      "Print Valid Name\n"
     ]
    }
   ],
   "source": [
    "try:\n",
    "    b= input(\"enter your name\")\n",
    "    if(len(b)<3):\n",
    "        raise Exception\n",
    "except NameError:\n",
    "        print(\"undefined variables\")\n",
    "except FileNotFoundError:\n",
    "    print(\"file doesn't exist.Please reupload\");\n",
    "except Exception:\n",
    "    print(\"Print Valid Name\")\n",
    "#     print(Exception)\n",
    "\n",
    "else:\n",
    "    print(\"try executed without any array\")"
   ]
  },
  {
   "cell_type": "code",
   "execution_count": 49,
   "metadata": {},
   "outputs": [
    {
     "name": "stdout",
     "output_type": "stream",
     "text": [
      "enter your name dsddgd\n",
      "try executed without any array\n",
      "this is always executed\n"
     ]
    }
   ],
   "source": [
    "try:\n",
    "    b= input(\"enter your name \")\n",
    "    if(len(b)<3):\n",
    "        raise Exception\n",
    "except NameError:\n",
    "        print(\"undefined variables\")\n",
    "except FileNotFoundError:\n",
    "    print(\"file doesn't exist.Please reupload\");\n",
    "except Exception:\n",
    "    print(\"Print Valid Name\")\n",
    "#     print(Exception)\n",
    "\n",
    "else:\n",
    "    print(\"try executed without any array\")\n",
    "    \n",
    "finally:\n",
    "    print(\"this is always executed\")"
   ]
  },
  {
   "cell_type": "code",
   "execution_count": null,
   "metadata": {},
   "outputs": [],
   "source": []
  }
 ],
 "metadata": {
  "kernelspec": {
   "display_name": "Python 3",
   "language": "python",
   "name": "python3"
  },
  "language_info": {
   "codemirror_mode": {
    "name": "ipython",
    "version": 3
   },
   "file_extension": ".py",
   "mimetype": "text/x-python",
   "name": "python",
   "nbconvert_exporter": "python",
   "pygments_lexer": "ipython3",
   "version": "3.7.6"
  }
 },
 "nbformat": 4,
 "nbformat_minor": 4
}
