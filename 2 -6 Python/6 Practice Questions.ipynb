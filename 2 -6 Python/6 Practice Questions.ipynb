{
 "cells": [
  {
   "cell_type": "markdown",
   "metadata": {},
   "source": [
    "### Palindrome\n",
    "Check if a linked list is a palindrome.( Boolean return type )\n",
    "\n",
    "Input Format\n",
    "Add N space separated elements in the list\n",
    "\n",
    "Constraints\n",
    "None\n",
    "\n",
    "Output Format\n",
    "Boolean answer( true or false)\n",
    "\n",
    "Sample Input\n",
    "\n",
    "5\n",
    "\n",
    "1 2 3 6 8\n",
    "\n",
    "Sample Output\n",
    "\n",
    "false"
   ]
  },
  {
   "cell_type": "code",
   "execution_count": 68,
   "metadata": {},
   "outputs": [],
   "source": [
    "def palindromeHelper(arr,si,ei):\n",
    "    if si>ei:\n",
    "        return True;\n",
    "    if arr[si]!=arr[ei]:\n",
    "        return False;\n",
    "    return palindromeHelper(arr,si+1,ei-1)\n"
   ]
  },
  {
   "cell_type": "code",
   "execution_count": 69,
   "metadata": {},
   "outputs": [],
   "source": [
    "def palindrome() :\n",
    "    n=int(input());\n",
    "    arr= [int(i) for i in input().split()]\n",
    "    if palindromeHelper(arr,0,n-1):\n",
    "        print(\"true\");\n",
    "    else:\n",
    "     print(\"false\")\n",
    "    "
   ]
  },
  {
   "cell_type": "code",
   "execution_count": 74,
   "metadata": {},
   "outputs": [
    {
     "name": "stdout",
     "output_type": "stream",
     "text": [
      "5\n",
      "1 2 3 2 1\n",
      "true\n"
     ]
    }
   ],
   "source": [
    "palindrome()"
   ]
  },
  {
   "cell_type": "markdown",
   "metadata": {},
   "source": [
    "\n",
    "### Smart Keypad - I\n",
    "\n",
    "You will be given a numeric string S. Print all the possible codes for S.\n",
    "\n",
    "Following vector contains the codes corresponding to the digits mapped.\n",
    "\n",
    "string table[] = { \" \", \".+@$\", \"abc\", \"def\", \"ghi\", \"jkl\" , \"mno\", \"pqrs\" , \"tuv\", \"wxyz\" };\n",
    "\n",
    "For example, string corresponding to 0 is \" \" and 1 is \".+@$\"\n",
    "\n",
    "Input Format\n",
    "\n",
    "A single string containing numbers only.\n",
    "\n",
    "Constraints\n",
    "\n",
    "length of string <= 10\n",
    "\n",
    "Output Format\n",
    "\n",
    "All possible codes one per line in the following order.\n",
    "\n",
    "The letter that appears first in the code should come first\n",
    "\n",
    "Sample Input\n",
    "\n",
    "12\n",
    "\n",
    "Sample Output\n",
    "\n",
    ".a\n",
    "\n",
    ".b\n",
    "\n",
    ".c\n",
    "\n",
    "+a\n",
    "\n",
    "+b\n",
    "\n",
    "+c\n",
    "\n",
    "@a\n",
    "\n",
    "@b\n",
    "\n",
    "@c\n",
    "\n",
    "$a\n",
    "\n",
    "$b\n",
    "\n",
    "$c"
   ]
  },
  {
   "cell_type": "code",
   "execution_count": 71,
   "metadata": {},
   "outputs": [],
   "source": [
    "def Smart_keypad_Helper(table,no,i,ans):\n",
    "    if i==len(no):\n",
    "        print(ans);\n",
    "        return;\n",
    "    digit=int(no[i]);\n",
    "    for j in table[digit]:\n",
    "        ans+=j\n",
    "        Smart_keypad_Helper(table,no,i+1,ans)\n",
    "        ans=ans[:-1]"
   ]
  },
  {
   "cell_type": "code",
   "execution_count": 72,
   "metadata": {},
   "outputs": [],
   "source": [
    "def Smart_Keypad() :\n",
    "    table = [\" \", \".+@$\", \"abc\", \"def\", \"ghi\", \"jkl\" , \"mno\", \"pqrs\" , \"tuv\", \"wxyz\"];\n",
    "    no=input();\n",
    "    Smart_keypad_Helper(table,no,0,\"\");"
   ]
  },
  {
   "cell_type": "code",
   "execution_count": 75,
   "metadata": {
    "scrolled": true
   },
   "outputs": [
    {
     "name": "stdout",
     "output_type": "stream",
     "text": [
      "12\n",
      ".a\n",
      ".b\n",
      ".c\n",
      "+a\n",
      "+b\n",
      "+c\n",
      "@a\n",
      "@b\n",
      "@c\n",
      "$a\n",
      "$b\n",
      "$c\n"
     ]
    }
   ],
   "source": [
    "Smart_Keypad();"
   ]
  },
  {
   "cell_type": "code",
   "execution_count": 1,
   "metadata": {},
   "outputs": [
    {
     "name": "stdout",
     "output_type": "stream",
     "text": [
      "hello\n"
     ]
    }
   ],
   "source": [
    "print(\"hello\");"
   ]
  },
  {
   "cell_type": "code",
   "execution_count": 2,
   "metadata": {},
   "outputs": [
    {
     "name": "stdout",
     "output_type": "stream",
     "text": [
      "he\n"
     ]
    }
   ],
   "source": [
    "print(\"he\");"
   ]
  },
  {
   "cell_type": "code",
   "execution_count": 10,
   "metadata": {},
   "outputs": [
    {
     "ename": "IndentationError",
     "evalue": "expected an indented block (<ipython-input-10-637f3d75443b>, line 8)",
     "output_type": "error",
     "traceback": [
      "\u001b[0;36m  File \u001b[0;32m\"<ipython-input-10-637f3d75443b>\"\u001b[0;36m, line \u001b[0;32m8\u001b[0m\n\u001b[0;31m    Prime.append(i)\u001b[0m\n\u001b[0m        ^\u001b[0m\n\u001b[0;31mIndentationError\u001b[0m\u001b[0;31m:\u001b[0m expected an indented block\n"
     ]
    }
   ],
   "source": [
    "n=102;\n",
    "Prime = [];\n",
    "arr=[0]*(n+1)\n",
    "print(len(arr))\n",
    "Prime.append(2);\n",
    "for i in range(3,n+1,2):\n",
    "    if arr[i]==0:\n",
    "    Prime.append(i)    \n",
    "    for j in range(i*i,n+1,i):\n",
    "        arr[j]=1;\n",
    "for i in Prime:\n",
    "    print(i);\n"
   ]
  },
  {
   "cell_type": "code",
   "execution_count": 23,
   "metadata": {},
   "outputs": [
    {
     "ename": "IndentationError",
     "evalue": "unindent does not match any outer indentation level (<tokenize>, line 34)",
     "output_type": "error",
     "traceback": [
      "\u001b[0;36m  File \u001b[0;32m\"<tokenize>\"\u001b[0;36m, line \u001b[0;32m34\u001b[0m\n\u001b[0;31m    for i in range(n-m+1):\u001b[0m\n\u001b[0m    ^\u001b[0m\n\u001b[0;31mIndentationError\u001b[0m\u001b[0;31m:\u001b[0m unindent does not match any outer indentation level\n"
     ]
    }
   ],
   "source": [
    "Prime=[]\n",
    "def seive():\n",
    "\tp=[0]*100003;\n",
    "\tPrime.append(2);\n",
    "\tfor i in range(3,100000,2):\n",
    "\t\t#we consider 0 as prime and 1 as not prime\n",
    "\t\tif p[i]==0:\n",
    "\t\t\tPrime.append(i);\n",
    "\t\t\tfor j in range(i*i,100000,i):\n",
    "\t\t\t\tp[j]=1;\n",
    "\t\t\t\n",
    "seive();\n",
    "\n",
    "t=int(input());\n",
    "for x in range(t):\n",
    "\tm,n = [int(i) for i in input().split()]\n",
    "\tSegment=[0]*(n-m+1);\n",
    "\ti=0;\n",
    "\tp=Prime[i];\n",
    "\ti+=1;\n",
    "\twhile p*p <= n :\n",
    "\t\tprint(p*p);\n",
    "\t\tfor j in range(n-m+1):\n",
    "\t\t\tnum=m+j;\n",
    "\t\t\tif num==1:\n",
    "\t\t\t\t Segment[j]=1;\n",
    "\t\t\tif num==p :\n",
    "\t\t\t\tcontinue;\n",
    "\t\t\tif num%p==0 :\n",
    "\t\t\t\tSegment[j]=1;\n",
    "# \t\tprint(Segment);\n",
    "\t\tp=Prime[i];\n",
    "\t\ti+=1;\n",
    "    for i in range(n-m+1):\n",
    "        if Segment[i]==0:\n",
    "            print(i,end=\" \");\n",
    "\n"
   ]
  },
  {
   "cell_type": "code",
   "execution_count": 28,
   "metadata": {},
   "outputs": [],
   "source": [
    "def Merge(arr,si,ei):\n",
    "    mid=int((si+ei)/2);\n",
    "    L=arr[si:mid+1];\n",
    "    R=arr[mid+1:ei+1];\n",
    "    n1=mid-si+1;\n",
    "    n2=ei-mid;\n",
    "    k=si;\n",
    "    i=0;\n",
    "    j=0;\n",
    "    while i<n1 and j<n2:\n",
    "        if L[i]<R[j]:\n",
    "            arr[k]=L[i];\n",
    "            k+=1;\n",
    "            i+=1;\n",
    "        else:\n",
    "            arr[k]=R[j];\n",
    "            j+=1;\n",
    "            k+=1;\n",
    "    \n",
    "    while i<n1 : \n",
    "        arr[k]=L[i];\n",
    "        k+=1;\n",
    "        i+=1;\n",
    "    while j<n2 :\n",
    "        arr[k]=R[j];\n",
    "        k+=1;\n",
    "        j+=1;"
   ]
  },
  {
   "cell_type": "code",
   "execution_count": 33,
   "metadata": {},
   "outputs": [
    {
     "name": "stdout",
     "output_type": "stream",
     "text": [
      "5\n",
      "5 4 3 2 1\n",
      "[1, 2, 3, 4, 5]\n"
     ]
    }
   ],
   "source": [
    "def Merge(arr,si,ei):\n",
    "    mid=int((si+ei)/2);\n",
    "    L=arr[si:mid+1];\n",
    "    R=arr[mid+1:ei+1];\n",
    "    n1=mid-si+1;\n",
    "    n2=ei-mid;\n",
    "    k=si;\n",
    "    i=0;\n",
    "    j=0;\n",
    "    while i<n1 and j<n2:\n",
    "        if L[i]<R[j]:\n",
    "            arr[k]=L[i];\n",
    "            k+=1;\n",
    "            i+=1;\n",
    "        else:\n",
    "            arr[k]=R[j];\n",
    "            j+=1;\n",
    "            k+=1;\n",
    "    \n",
    "    while i<n1 : \n",
    "        arr[k]=L[i];\n",
    "        k+=1;\n",
    "        i+=1;\n",
    "    while j<n2 :\n",
    "        arr[k]=R[j];\n",
    "        k+=1;\n",
    "        j+=1;\n",
    "\n",
    "def Mergesort(arr , si ,ei): \n",
    "    if si<ei:\n",
    "        mid=int((si+ei)/2);\n",
    "        Mergesort(arr,si,mid);\n",
    "        Mergesort(arr,mid+1,ei);\n",
    "        Merge(arr,si,ei);\n",
    "\n",
    "\n",
    "n=int(input());\n",
    "arr=[int(i) for i in input().split()];\n",
    "Mergesort(arr,0,n-1);\n",
    "print(arr);"
   ]
  },
  {
   "cell_type": "code",
   "execution_count": null,
   "metadata": {},
   "outputs": [],
   "source": []
  },
  {
   "cell_type": "code",
   "execution_count": null,
   "metadata": {},
   "outputs": [],
   "source": []
  }
 ],
 "metadata": {
  "kernelspec": {
   "display_name": "Python 3",
   "language": "python",
   "name": "python3"
  },
  "language_info": {
   "codemirror_mode": {
    "name": "ipython",
    "version": 3
   },
   "file_extension": ".py",
   "mimetype": "text/x-python",
   "name": "python",
   "nbconvert_exporter": "python",
   "pygments_lexer": "ipython3",
   "version": "3.7.6"
  }
 },
 "nbformat": 4,
 "nbformat_minor": 4
}
