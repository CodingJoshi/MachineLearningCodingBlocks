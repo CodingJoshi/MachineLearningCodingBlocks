{
 "cells": [
  {
   "cell_type": "markdown",
   "metadata": {},
   "source": [
    "# Dynamic Programming with Python"
   ]
  },
  {
   "cell_type": "markdown",
   "metadata": {},
   "source": [
    "### Question 1 : Longest Increasing Subsequence\n"
   ]
  },
  {
   "cell_type": "code",
   "execution_count": 1,
   "metadata": {},
   "outputs": [],
   "source": [
    "def LIS(arr,n):\n",
    "    dp=[1]*n;\n",
    "    for i in range(1,n):\n",
    "        for j in range (i):\n",
    "            if arr[j]<arr[i]:\n",
    "                dp[i]=max(dp[i],dp[j]+1)\n",
    "                \n",
    "    for i in range(n):\n",
    "        print(dp[i],end=\" \");\n",
    "    print();\n",
    "    return max(dp)"
   ]
  },
  {
   "cell_type": "code",
   "execution_count": 3,
   "metadata": {},
   "outputs": [
    {
     "name": "stdout",
     "output_type": "stream",
     "text": [
      "10\n",
      "10 22 9 33 21 50 41 60 80 6\n",
      "1 2 1 3 2 4 4 5 6 1 \n",
      "6\n"
     ]
    }
   ],
   "source": [
    "n=int(input());\n",
    "arr=[int(i) for i in input().split()]\n",
    "print(LIS(arr,n));"
   ]
  },
  {
   "cell_type": "markdown",
   "metadata": {},
   "source": [
    "### Question 2  Rod Cutting Problem"
   ]
  },
  {
   "cell_type": "code",
   "execution_count": 4,
   "metadata": {},
   "outputs": [],
   "source": [
    "def RodCutingProblemRec(price,n):\n",
    "    if n==0:\n",
    "        return 0;\n",
    "    best=0;\n",
    "    for i in range (1,n+1):\n",
    "        ans=price[i-1]+RodCutingProblemRec(price,n-i);\n",
    "        best=max(best,ans);\n",
    "    return best;\n",
    "\n",
    "\n",
    "\n",
    "dp=[]\n",
    "def RodCutingProblemTD(price,n):\n",
    "    if n==0:\n",
    "        return 0;\n",
    "    if dp[n]!=-1:\n",
    "        return dp[n];\n",
    "    best=0;\n",
    "    for i in range (1,n+1):\n",
    "        ans=price[i-1]+RodCutingProblemTD(price,n-i);\n",
    "        best=max(best,ans);\n",
    "    dp[n]=best;\n",
    "    return best;\n",
    "\n",
    "\n",
    "def RodCutingProblemBU(price,n):\n",
    "    DP=[0]*(n+1);\n",
    "    for i in range (1,n+1):\n",
    "        for j in range (1,i+1):\n",
    "            DP[i]=max(DP[i],price[j-1]+DP[i-j]);\n",
    "    \n",
    "#     print(DP);\n",
    "    return DP[n];"
   ]
  },
  {
   "cell_type": "code",
   "execution_count": 6,
   "metadata": {},
   "outputs": [
    {
     "name": "stdout",
     "output_type": "stream",
     "text": [
      "8\n",
      "1 5 8 9 10 17 17 20\n",
      "22\n",
      "22\n",
      "22\n"
     ]
    }
   ],
   "source": [
    "n=int(input());\n",
    "price=[int(i) for i in input().split()]\n",
    "print(RodCutingProblemRec(price,n))\n",
    "dp=[-1]*(n+1)\n",
    "print(RodCutingProblemTD(price,n));\n",
    "print(RodCutingProblemBU(price,n))"
   ]
  },
  {
   "cell_type": "markdown",
   "metadata": {},
   "source": [
    "### Question 3 Matrix Chain Multiplication"
   ]
  },
  {
   "cell_type": "code",
   "execution_count": 3,
   "metadata": {},
   "outputs": [],
   "source": [
    "def MCM(arr):\n",
    "    n=len(arr)-1;\n",
    "#     dp=[[0]*n]*n; wrong way\n",
    "    dp=[[0 for i in range(n)] for i in range(n)]\n",
    "    for i in range(1,n):\n",
    "        r=0;c=i;\n",
    "        while r<n and c<n:\n",
    "            best=100000000;\n",
    "            for k in range(r,c):\n",
    "                best=min(best,dp[r][k]+dp[k+1][c]+(arr[r]*arr[k+1]*arr[c+1]));\n",
    "#             print(best);\n",
    "            dp[r][c]=best;\n",
    "            r+=1;c+=1;\n",
    "#     print(dp)\n",
    "    return dp[0][n-1]"
   ]
  },
  {
   "cell_type": "code",
   "execution_count": 4,
   "metadata": {},
   "outputs": [
    {
     "name": "stdout",
     "output_type": "stream",
     "text": [
      "45 17 34 27 12 22\n",
      "39012\n"
     ]
    }
   ],
   "source": [
    "arr=[int(i) for i in input().split()]\n",
    "print(MCM(arr))"
   ]
  },
  {
   "cell_type": "code",
   "execution_count": null,
   "metadata": {},
   "outputs": [],
   "source": []
  }
 ],
 "metadata": {
  "kernelspec": {
   "display_name": "Python 3",
   "language": "python",
   "name": "python3"
  },
  "language_info": {
   "codemirror_mode": {
    "name": "ipython",
    "version": 3
   },
   "file_extension": ".py",
   "mimetype": "text/x-python",
   "name": "python",
   "nbconvert_exporter": "python",
   "pygments_lexer": "ipython3",
   "version": "3.7.6"
  }
 },
 "nbformat": 4,
 "nbformat_minor": 4
}
