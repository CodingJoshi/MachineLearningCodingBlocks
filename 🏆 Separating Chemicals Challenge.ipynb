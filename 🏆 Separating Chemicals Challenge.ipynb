{
 "cells": [
  {
   "cell_type": "code",
   "execution_count": 1,
   "metadata": {},
   "outputs": [],
   "source": [
    "import pandas as pd\n",
    "import matplotlib.pyplot as plt\n",
    "import numpy as np"
   ]
  },
  {
   "cell_type": "code",
   "execution_count": 2,
   "metadata": {},
   "outputs": [
    {
     "name": "stdout",
     "output_type": "stream",
     "text": [
      "(3000, 3)\n",
      "(3000, 1)\n"
     ]
    }
   ],
   "source": [
    "X_Train=pd.read_csv(\"./Training Data/Logistic_X_Train.csv\").values;\n",
    "print(X_Train.shape);\n",
    "Y_Train=pd.read_csv(\"./Training Data/Logistic_Y_Train.csv\").values;\n",
    "print(Y_Train.shape)"
   ]
  },
  {
   "cell_type": "code",
   "execution_count": 3,
   "metadata": {},
   "outputs": [
    {
     "data": {
      "text/plain": [
       "(3000, 4)"
      ]
     },
     "execution_count": 3,
     "metadata": {},
     "output_type": "execute_result"
    }
   ],
   "source": [
    "m,n=X_Train.shape;\n",
    "X=np.hstack((np.ones((m,1)),X_Train));\n",
    "X.shape"
   ]
  },
  {
   "cell_type": "code",
   "execution_count": 4,
   "metadata": {},
   "outputs": [],
   "source": [
    "def sigmoid(z):\n",
    "    return 1.0/(1.0+np.exp(-z));\n",
    "\n",
    "def hypothesis(X,theta):\n",
    "    hx=np.dot(X,theta);\n",
    "    return sigmoid(hx);\n",
    "\n",
    "def error(X,theta,y):\n",
    "    hx=hypothesis(X,theta);\n",
    "    err=y*np.log2(hx)+(1-y)*np.log2(1-hx);\n",
    "    return -err.sum()/m;\n",
    "\n",
    "def Gradient(X,theta,y):\n",
    "    hx=hypothesis(X,theta);\n",
    "    return np.dot(X.T,(hx-y))/X.shape[0];\n",
    "\n",
    "def GradientDescent(X,y,iteration=500,alpha=0.1):\n",
    "    err=[];\n",
    "    theta=np.zeros((X.shape[1],1));\n",
    "    for i in range(iteration):\n",
    "        stepsize=alpha*Gradient(X,theta,y);\n",
    "        theta=theta-stepsize;\n",
    "        e=error(X,theta,y);\n",
    "        err.append(e);\n",
    "    \n",
    "    return err,theta;"
   ]
  },
  {
   "cell_type": "code",
   "execution_count": 5,
   "metadata": {
    "scrolled": true
   },
   "outputs": [
    {
     "data": {
      "image/png": "[encoded data removed]",
      "text/plain": [
       "<Figure size 432x288 with 1 Axes>"
      ]
     },
     "metadata": {
      "needs_background": "light"
     },
     "output_type": "display_data"
    }
   ],
   "source": [
    "loss,best_theta=GradientDescent(X,Y_Train);\n",
    "plt.plot(loss);"
   ]
  },
  {
   "cell_type": "code",
   "execution_count": 12,
   "metadata": {},
   "outputs": [
    {
     "name": "stdout",
     "output_type": "stream",
     "text": [
      "(1000, 3)\n"
     ]
    }
   ],
   "source": [
    "X_test=pd.read_csv(\"./Test Cases/Logistic_X_Test.csv\").values;\n",
    "print(X_test.shape)\n",
    "X_test=np.hstack((np.ones((X_test.shape[0],1)),X_test));"
   ]
  },
  {
   "cell_type": "code",
   "execution_count": 10,
   "metadata": {},
   "outputs": [
    {
     "name": "stdout",
     "output_type": "stream",
     "text": [
      "(1000, 1) 1000\n"
     ]
    }
   ],
   "source": [
    "Y_output=hypothesis(X_test,best_theta);\n",
    "Y_Predict=[];\n",
    "for i in  Y_output :\n",
    "    if(i<0.5):\n",
    "        Y_Predict.append(1);\n",
    "    else:\n",
    "        Y_Predict.append(0);\n",
    "    \n",
    "print(Y_output.shape,len(Y_Predict))\n",
    "Y_test=np.array(Y_Predict);\n",
    "\n",
    "df=pd.DataFrame(Y_test,columns=[\"label\"]);\n",
    "df.head()\n",
    "# df.to_csv?\n",
    "df.to_csv(\"output.csv\",index= False);"
   ]
  },
  {
   "cell_type": "code",
   "execution_count": null,
   "metadata": {},
   "outputs": [],
   "source": []
  },
  {
   "cell_type": "code",
   "execution_count": null,
   "metadata": {},
   "outputs": [],
   "source": []
  }
 ],
 "metadata": {
  "kernelspec": {
   "display_name": "Python 3",
   "language": "python",
   "name": "python3"
  },
  "language_info": {
   "codemirror_mode": {
    "name": "ipython",
    "version": 3
   },
   "file_extension": ".py",
   "mimetype": "text/x-python",
   "name": "python",
   "nbconvert_exporter": "python",
   "pygments_lexer": "ipython3",
   "version": "3.7.6"
  }
 },
 "nbformat": 4,
 "nbformat_minor": 4
}
